{
 "cells": [
  {
   "cell_type": "markdown",
   "metadata": {
    "collapsed": false,
    "pycharm": {
     "name": "#%% md\n"
    }
   },
   "source": [
    "# Delphi dataset analysis"
   ]
  },
  {
   "cell_type": "code",
   "execution_count": 1,
   "metadata": {
    "collapsed": false,
    "pycharm": {
     "name": "#%%\n"
    }
   },
   "outputs": [],
   "source": [
    "import pandas as pd\n",
    "from random import randint\n",
    "import missingno as msno\n",
    "import matplotlib.pyplot as plt\n",
    "import seaborn as sns\n",
    "from nltk.tokenize.toktok import ToktokTokenizer\n",
    "\"\"\"from sklearn.feature_extraction.text import CountVectorizer\n",
    "from sklearn.feature_extraction.text import TfidfTransformer\n",
    "from sklearn.naive_bayes import MultinomialNB\n",
    "from sklearn.linear_model import SGDClassifier\n",
    "from sklearn.pipeline import Pipeline\n",
    "from sklearn import metrics\n",
    "from sklearn.model_selection import GridSearchCV\n",
    "from sklearn.model_selection import ShuffleSplit\"\"\"\n",
    "pd.set_option('display.max_columns', None)"
   ]
  },
  {
   "cell_type": "code",
   "execution_count": 2,
   "metadata": {
    "collapsed": false,
    "pycharm": {
     "name": "#%%\n"
    }
   },
   "outputs": [],
   "source": [
    "join = pd.read_csv(\"datasets/join.csv\")"
   ]
  },
  {
   "cell_type": "markdown",
   "metadata": {
    "collapsed": false,
    "pycharm": {
     "name": "#%% md\n"
    }
   },
   "source": [
    "## Dataset exploration"
   ]
  },
  {
   "cell_type": "code",
   "execution_count": 3,
   "metadata": {
    "collapsed": false,
    "pycharm": {
     "name": "#%%\n"
    }
   },
   "outputs": [
    {
     "data": {
      "text/html": [
       "<div>\n",
       "<style scoped>\n",
       "    .dataframe tbody tr th:only-of-type {\n",
       "        vertical-align: middle;\n",
       "    }\n",
       "\n",
       "    .dataframe tbody tr th {\n",
       "        vertical-align: top;\n",
       "    }\n",
       "\n",
       "    .dataframe thead th {\n",
       "        text-align: right;\n",
       "    }\n",
       "</style>\n",
       "<table border=\"1\" class=\"dataframe\">\n",
       "  <thead>\n",
       "    <tr style=\"text-align: right;\">\n",
       "      <th></th>\n",
       "      <th>ID</th>\n",
       "      <th>Data Campionamento</th>\n",
       "      <th>Totalizzato (m3)</th>\n",
       "      <th>Componenti nucleo</th>\n",
       "      <th>STAZIONE</th>\n",
       "      <th>TEMPERATURA MINIMA</th>\n",
       "      <th>TEMPERATURA MASSIMA</th>\n",
       "      <th>UMIDITA MINIMA</th>\n",
       "      <th>UMIDITA MASSIMA</th>\n",
       "      <th>PRECIPITAZIONI (mm)</th>\n",
       "      <th>VENTO m/s</th>\n",
       "      <th>DIREZIONE</th>\n",
       "    </tr>\n",
       "  </thead>\n",
       "  <tbody>\n",
       "    <tr>\n",
       "      <th>0</th>\n",
       "      <td>324052</td>\n",
       "      <td>20/08/23 00:00</td>\n",
       "      <td>166.742</td>\n",
       "      <td>1</td>\n",
       "      <td>MANTOVA CAMPO CANOA</td>\n",
       "      <td>28.0</td>\n",
       "      <td>29.3</td>\n",
       "      <td>67</td>\n",
       "      <td>71</td>\n",
       "      <td>0.0</td>\n",
       "      <td>0.6</td>\n",
       "      <td>90</td>\n",
       "    </tr>\n",
       "    <tr>\n",
       "      <th>1</th>\n",
       "      <td>324052</td>\n",
       "      <td>20/08/23 01:00</td>\n",
       "      <td>166.742</td>\n",
       "      <td>1</td>\n",
       "      <td>MANTOVA CAMPO CANOA</td>\n",
       "      <td>26.3</td>\n",
       "      <td>28.1</td>\n",
       "      <td>72</td>\n",
       "      <td>78</td>\n",
       "      <td>0.0</td>\n",
       "      <td>0.1</td>\n",
       "      <td>45</td>\n",
       "    </tr>\n",
       "    <tr>\n",
       "      <th>2</th>\n",
       "      <td>324052</td>\n",
       "      <td>20/08/23 02:00</td>\n",
       "      <td>166.742</td>\n",
       "      <td>1</td>\n",
       "      <td>MANTOVA CAMPO CANOA</td>\n",
       "      <td>25.1</td>\n",
       "      <td>26.3</td>\n",
       "      <td>78</td>\n",
       "      <td>84</td>\n",
       "      <td>0.0</td>\n",
       "      <td>0.1</td>\n",
       "      <td>45</td>\n",
       "    </tr>\n",
       "    <tr>\n",
       "      <th>3</th>\n",
       "      <td>324052</td>\n",
       "      <td>20/08/23 03:00</td>\n",
       "      <td>166.742</td>\n",
       "      <td>1</td>\n",
       "      <td>MANTOVA CAMPO CANOA</td>\n",
       "      <td>24.7</td>\n",
       "      <td>25.2</td>\n",
       "      <td>84</td>\n",
       "      <td>86</td>\n",
       "      <td>0.0</td>\n",
       "      <td>0.0</td>\n",
       "      <td>45</td>\n",
       "    </tr>\n",
       "    <tr>\n",
       "      <th>4</th>\n",
       "      <td>324052</td>\n",
       "      <td>20/08/23 04:00</td>\n",
       "      <td>166.742</td>\n",
       "      <td>1</td>\n",
       "      <td>MANTOVA CAMPO CANOA</td>\n",
       "      <td>24.1</td>\n",
       "      <td>24.9</td>\n",
       "      <td>85</td>\n",
       "      <td>87</td>\n",
       "      <td>0.0</td>\n",
       "      <td>0.1</td>\n",
       "      <td>45</td>\n",
       "    </tr>\n",
       "    <tr>\n",
       "      <th>5</th>\n",
       "      <td>324052</td>\n",
       "      <td>20/08/23 05:00</td>\n",
       "      <td>166.742</td>\n",
       "      <td>1</td>\n",
       "      <td>MANTOVA CAMPO CANOA</td>\n",
       "      <td>23.7</td>\n",
       "      <td>24.2</td>\n",
       "      <td>87</td>\n",
       "      <td>89</td>\n",
       "      <td>0.0</td>\n",
       "      <td>0.0</td>\n",
       "      <td>45</td>\n",
       "    </tr>\n",
       "    <tr>\n",
       "      <th>6</th>\n",
       "      <td>324052</td>\n",
       "      <td>20/08/23 06:00</td>\n",
       "      <td>166.812</td>\n",
       "      <td>1</td>\n",
       "      <td>MANTOVA CAMPO CANOA</td>\n",
       "      <td>23.7</td>\n",
       "      <td>24.2</td>\n",
       "      <td>85</td>\n",
       "      <td>88</td>\n",
       "      <td>0.0</td>\n",
       "      <td>0.1</td>\n",
       "      <td>45</td>\n",
       "    </tr>\n",
       "    <tr>\n",
       "      <th>7</th>\n",
       "      <td>324052</td>\n",
       "      <td>20/08/23 07:00</td>\n",
       "      <td>166.812</td>\n",
       "      <td>1</td>\n",
       "      <td>MANTOVA CAMPO CANOA</td>\n",
       "      <td>23.7</td>\n",
       "      <td>23.9</td>\n",
       "      <td>87</td>\n",
       "      <td>89</td>\n",
       "      <td>0.0</td>\n",
       "      <td>0.0</td>\n",
       "      <td>45</td>\n",
       "    </tr>\n",
       "    <tr>\n",
       "      <th>8</th>\n",
       "      <td>324052</td>\n",
       "      <td>20/08/23 08:00</td>\n",
       "      <td>166.812</td>\n",
       "      <td>1</td>\n",
       "      <td>MANTOVA CAMPO CANOA</td>\n",
       "      <td>23.8</td>\n",
       "      <td>24.9</td>\n",
       "      <td>85</td>\n",
       "      <td>88</td>\n",
       "      <td>0.0</td>\n",
       "      <td>0.0</td>\n",
       "      <td>45</td>\n",
       "    </tr>\n",
       "    <tr>\n",
       "      <th>9</th>\n",
       "      <td>324052</td>\n",
       "      <td>20/08/23 09:00</td>\n",
       "      <td>166.812</td>\n",
       "      <td>1</td>\n",
       "      <td>MANTOVA CAMPO CANOA</td>\n",
       "      <td>25.0</td>\n",
       "      <td>27.5</td>\n",
       "      <td>78</td>\n",
       "      <td>86</td>\n",
       "      <td>0.0</td>\n",
       "      <td>0.0</td>\n",
       "      <td>45</td>\n",
       "    </tr>\n",
       "  </tbody>\n",
       "</table>\n",
       "</div>"
      ],
      "text/plain": [
       "       ID Data Campionamento  Totalizzato (m3)  Componenti nucleo   \n",
       "0  324052     20/08/23 00:00           166.742                  1  \\\n",
       "1  324052     20/08/23 01:00           166.742                  1   \n",
       "2  324052     20/08/23 02:00           166.742                  1   \n",
       "3  324052     20/08/23 03:00           166.742                  1   \n",
       "4  324052     20/08/23 04:00           166.742                  1   \n",
       "5  324052     20/08/23 05:00           166.742                  1   \n",
       "6  324052     20/08/23 06:00           166.812                  1   \n",
       "7  324052     20/08/23 07:00           166.812                  1   \n",
       "8  324052     20/08/23 08:00           166.812                  1   \n",
       "9  324052     20/08/23 09:00           166.812                  1   \n",
       "\n",
       "              STAZIONE  TEMPERATURA MINIMA  TEMPERATURA MASSIMA   \n",
       "0  MANTOVA CAMPO CANOA                28.0                 29.3  \\\n",
       "1  MANTOVA CAMPO CANOA                26.3                 28.1   \n",
       "2  MANTOVA CAMPO CANOA                25.1                 26.3   \n",
       "3  MANTOVA CAMPO CANOA                24.7                 25.2   \n",
       "4  MANTOVA CAMPO CANOA                24.1                 24.9   \n",
       "5  MANTOVA CAMPO CANOA                23.7                 24.2   \n",
       "6  MANTOVA CAMPO CANOA                23.7                 24.2   \n",
       "7  MANTOVA CAMPO CANOA                23.7                 23.9   \n",
       "8  MANTOVA CAMPO CANOA                23.8                 24.9   \n",
       "9  MANTOVA CAMPO CANOA                25.0                 27.5   \n",
       "\n",
       "   UMIDITA MINIMA  UMIDITA MASSIMA  PRECIPITAZIONI (mm)  VENTO m/s  DIREZIONE  \n",
       "0              67               71                  0.0        0.6         90  \n",
       "1              72               78                  0.0        0.1         45  \n",
       "2              78               84                  0.0        0.1         45  \n",
       "3              84               86                  0.0        0.0         45  \n",
       "4              85               87                  0.0        0.1         45  \n",
       "5              87               89                  0.0        0.0         45  \n",
       "6              85               88                  0.0        0.1         45  \n",
       "7              87               89                  0.0        0.0         45  \n",
       "8              85               88                  0.0        0.0         45  \n",
       "9              78               86                  0.0        0.0         45  "
      ]
     },
     "execution_count": 3,
     "metadata": {},
     "output_type": "execute_result"
    }
   ],
   "source": [
    "join.head(10)"
   ]
  },
  {
   "cell_type": "code",
   "execution_count": 4,
   "metadata": {
    "collapsed": false,
    "pycharm": {
     "name": "#%%\n"
    }
   },
   "outputs": [
    {
     "name": "stdout",
     "output_type": "stream",
     "text": [
      "Numero di records: 10720\n",
      "Numero di colonne: 12\n"
     ]
    }
   ],
   "source": [
    "print('Numero di records:', join.shape[0])\n",
    "print('Numero di colonne:', join.shape[1])"
   ]
  },
  {
   "cell_type": "markdown",
   "metadata": {
    "collapsed": false,
    "pycharm": {
     "name": "#%% md\n"
    }
   },
   "source": [
    "Dataset setup:"
   ]
  },
  {
   "cell_type": "code",
   "execution_count": 5,
   "metadata": {
    "collapsed": false,
    "pycharm": {
     "name": "#%%\n"
    }
   },
   "outputs": [],
   "source": [
    "join[\"TEMPERATURA\"] = join[[\"TEMPERATURA MINIMA\",\"TEMPERATURA MASSIMA\"]].mean(axis=1)\n",
    "join[\"UMIDITA\"] = join[[\"UMIDITA MINIMA\",\"UMIDITA MASSIMA\"]].mean(axis=1)\n",
    "join[\"TOT PERSONA\"] = round(join[\"Totalizzato (m3)\"]/join[\"Componenti nucleo\"], 2)\n",
    "\n",
    "join.drop([\"TEMPERATURA MINIMA\",\"TEMPERATURA MASSIMA\",\"UMIDITA MINIMA\",\"UMIDITA MASSIMA\", \"VENTO m/s\", \"DIREZIONE\", \"STAZIONE\"], axis=1, inplace=True)"
   ]
  },
  {
   "cell_type": "markdown",
   "metadata": {
    "collapsed": false,
    "pycharm": {
     "name": "#%% md\n"
    }
   },
   "source": [
    "Check for missing data:"
   ]
  },
  {
   "cell_type": "code",
   "execution_count": 6,
   "metadata": {
    "collapsed": false,
    "pycharm": {
     "name": "#%%\n"
    }
   },
   "outputs": [
    {
     "data": {
      "image/png": "[encoded data removed]",
      "text/plain": [
       "<Figure size 2500x1000 with 2 Axes>"
      ]
     },
     "metadata": {},
     "output_type": "display_data"
    }
   ],
   "source": [
    "msno.matrix(join);"
   ]
  },
  {
   "cell_type": "markdown",
   "metadata": {
    "collapsed": false,
    "pycharm": {
     "name": "#%% md\n"
    }
   },
   "source": [
    "> No NaN found"
   ]
  },
  {
   "cell_type": "markdown",
   "metadata": {
    "collapsed": false,
    "pycharm": {
     "name": "#%% md\n"
    }
   },
   "source": [
    "> Hypothesis: at the moment, the analysis will only take into account the average temperature, average humidy and rain conditions to semplify the model (in future works the model will be upgraded with other parameters like the wind direction and force)"
   ]
  },
  {
   "cell_type": "code",
   "execution_count": 7,
   "metadata": {
    "collapsed": false,
    "pycharm": {
     "name": "#%%\n"
    }
   },
   "outputs": [
    {
     "name": "stdout",
     "output_type": "stream",
     "text": [
      "Min temperatura: 16.05\n",
      "Max temperatura: 39.45\n",
      "Avg temperatura: 26.32\n",
      "\n"
     ]
    }
   ],
   "source": [
    "print(f\"Min temperatura: {join['TEMPERATURA'].min()}\")\n",
    "print(f\"Max temperatura: {join['TEMPERATURA'].max()}\")\n",
    "print(f\"Avg temperatura: {round(join['TEMPERATURA'].mean(), 2)}\\n\")"
   ]
  },
  {
   "cell_type": "code",
   "execution_count": 8,
   "metadata": {},
   "outputs": [
    {
     "name": "stdout",
     "output_type": "stream",
     "text": [
      "Temperature:\n",
      "Slice 1: from 16.05 to 18.39\n",
      "Slice 2: from 18.39 to 20.73\n",
      "Slice 3: from 20.73 to 23.07\n",
      "Slice 4: from 23.07 to 25.41\n",
      "Slice 5: from 25.41 to 27.75\n",
      "Slice 6: from 27.75 to 30.09\n",
      "Slice 7: from 30.09 to 32.43\n",
      "Slice 8: from 32.43 to 34.77\n",
      "Slice 9: from 34.77 to 37.11\n",
      "Slice 10: from 37.11 to 39.45\n"
     ]
    }
   ],
   "source": [
    "slice_t = (join['TEMPERATURA'].max() - join['TEMPERATURA'].min())/10\n",
    "\n",
    "range_t = [join['TEMPERATURA'].min()]\n",
    "\n",
    "\n",
    "print(\"Temperature:\")\n",
    "\n",
    "t = 0\n",
    "for i in range(10):\n",
    "    print(f\"Slice {i+1}: from {round(join['TEMPERATURA'].min() + t, 2)} to {round(join['TEMPERATURA'].min() + t + slice_t, 2)}\")\n",
    "    t += slice_t\n",
    "    range_t.append(round(t+join['TEMPERATURA'].min(), 2))"
   ]
  },
  {
   "cell_type": "code",
   "execution_count": 9,
   "metadata": {},
   "outputs": [],
   "source": [
    "temp = []\n",
    "\n",
    "for x in join[\"TEMPERATURA\"]:\n",
    "    if range_t[0] < round(x, 2) < range_t[1]:\n",
    "        y = 0\n",
    "    \n",
    "    elif range_t[1] < round(x, 2) < range_t[2]:\n",
    "        y = 1\n",
    "    \n",
    "    elif range_t[2] < round(x, 2) < range_t[3]:\n",
    "        y = 2\n",
    "    \n",
    "    elif range_t[3] < round(x, 2) < range_t[4]:\n",
    "        y = 3\n",
    "\n",
    "    elif range_t[4] < round(x, 2) < range_t[5]:\n",
    "        y = 4\n",
    "    \n",
    "    elif range_t[5] < round(x, 2) < range_t[6]:\n",
    "        y = 5\n",
    "    \n",
    "    elif range_t[6] < round(x, 2) < range_t[7]:\n",
    "        y = 6\n",
    "    \n",
    "    elif range_t[7] < round(x, 2) < range_t[8]:\n",
    "        y = 7\n",
    "    \n",
    "    elif range_t[8] < round(x, 2) < range_t[9]:\n",
    "        y = 8\n",
    "    \n",
    "    elif range_t[9] < round(x, 2) < range_t[10]:\n",
    "        y = 9\n",
    "\n",
    "    temp.append(y)\n",
    "\n",
    "join[\"TEMP\"] = temp"
   ]
  },
  {
   "cell_type": "code",
   "execution_count": 10,
   "metadata": {},
   "outputs": [
    {
     "name": "stdout",
     "output_type": "stream",
     "text": [
      "{0: 299, 1: 1635, 2: 1503, 3: 1601, 4: 1695, 5: 1329, 6: 1053, 7: 718, 8: 581, 9: 306}\n"
     ]
    }
   ],
   "source": [
    "count_t = {0:0, 1:0, 2:0, 3:0, 4:0, 5:0, 6:0, 7:0, 8:0, 9:0}\n",
    "\n",
    "for i in join[\"TEMP\"]:\n",
    "    count_t[i]+=1\n",
    "\n",
    "print(f\"{count_t}\")"
   ]
  },
  {
   "cell_type": "code",
   "execution_count": null,
   "metadata": {},
   "outputs": [],
   "source": []
  }
 ],
 "metadata": {
  "kernelspec": {
   "display_name": "Python 3",
   "language": "python",
   "name": "python3"
  },
  "language_info": {
   "codemirror_mode": {
    "name": "ipython",
    "version": 3
   },
   "file_extension": ".py",
   "mimetype": "text/x-python",
   "name": "python",
   "nbconvert_exporter": "python",
   "pygments_lexer": "ipython3",
   "version": "3.11.4"
  }
 },
 "nbformat": 4,
 "nbformat_minor": 0
}
